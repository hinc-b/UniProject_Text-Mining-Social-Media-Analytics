{
  "nbformat": 4,
  "nbformat_minor": 0,
  "metadata": {
    "colab": {
      "name": "Project-code-v1.ipynb",
      "provenance": [],
      "collapsed_sections": [],
      "toc_visible": true,
      "authorship_tag": "ABX9TyOh7xNnudmsRJI8u1dI92O0",
      "include_colab_link": true
    },
    "kernelspec": {
      "name": "python3",
      "display_name": "Python 3"
    },
    "language_info": {
      "name": "python"
    }
  },
  "cells": [
    {
      "cell_type": "markdown",
      "metadata": {
        "id": "view-in-github",
        "colab_type": "text"
      },
      "source": [
        "<a href=\"https://colab.research.google.com/github/hinc-b/UniProject_Text-Mining-Social-Media-Analytics/blob/main/Project_code_v1.ipynb\" target=\"_parent\"><img src=\"https://colab.research.google.com/assets/colab-badge.svg\" alt=\"Open In Colab\"/></a>"
      ]
    },
    {
      "cell_type": "markdown",
      "source": [
        "#Introduction"
      ],
      "metadata": {
        "id": "_WUlN2NDhdGL"
      }
    },
    {
      "cell_type": "markdown",
      "source": [
        "\n",
        "##Project scope\n",
        "**The aim of the project** is to investigate the posts of Tweeter users that were created in the pre-election period for the presidency of the United States of America in 2020.\n",
        "\n",
        "**The subject of the study** are posts about the candidates for the US presidency - J. Biden and D. Trump. Thus, these are not candidates' posts, but posts about candidates.\n",
        "\n",
        "I will try to find answers to the following questions:\n",
        "* How did the residents of the USA and other countries express themselves about \n",
        "the candidates?\n",
        "\n",
        "* Which languages were used most often?\n",
        "\n",
        "* What form of application (web, mobile, etc.) was most often used to post entries?\n",
        "\n",
        "* What was the activity of Twitter users writing about the candidates? What could this activity be related to?\n",
        "\n",
        "* What were the most common words?\n",
        "\n",
        "* Which posts about a given candidate were more opinions and which were facts?\n",
        "\n",
        "* As well as - **On the basis of the collected data, it can be stated that the election results were falsified, or was the counting of votes correct?**"
      ],
      "metadata": {
        "id": "4gN3FQg0kaqE"
      }
    },
    {
      "cell_type": "markdown",
      "source": [
        "## Libraries import"
      ],
      "metadata": {
        "id": "jY6lC2GykhVU"
      }
    },
    {
      "cell_type": "code",
      "source": [
        "import pandas as pd # data processing / manipulation\n",
        "import matplotlib.pyplot as plt # basic data visualization"
      ],
      "metadata": {
        "id": "hVMQ19qdkrTX"
      },
      "execution_count": null,
      "outputs": []
    },
    {
      "cell_type": "code",
      "source": [
        "# visualization arguments\n",
        "barcolors = ['#9ED2A1', '#2A58A1', '#E7E8CB', '#2E8B55', '#87B88C', '#48A0C9', '#DF3659', 'Grey']\n",
        "barstyle = {\"edgecolor\": \"black\", \"linewidth\": 1}"
      ],
      "metadata": {
        "id": "rqP9iGRPuWkc"
      },
      "execution_count": 37,
      "outputs": []
    },
    {
      "cell_type": "markdown",
      "source": [
        "## Dataset\n",
        "The data comes from https://www.kaggle.com/manchunhui/us-election-2020-tweets\n",
        "\n",
        "The author of the database used in the project is *Manch Hui*.\n",
        "\n",
        "The data consists of tweets shared between October 15, 2020 and November 8, 2020. Entries apply to both candidates - D. Trump and J. Biden."
      ],
      "metadata": {
        "id": "UrdmQbjbjD9t"
      }
    },
    {
      "cell_type": "code",
      "source": [
        "# library import\n",
        "import pandas as pd # data processing / manipulation"
      ],
      "metadata": {
        "id": "GFJUesqTjNnb"
      },
      "execution_count": 2,
      "outputs": []
    },
    {
      "cell_type": "code",
      "source": [
        "# data import csv files\n",
        "\n",
        "from google.colab import drive\n",
        "drive.mount('/content/gdrive')\n",
        "\n",
        "%cd /content/gdrive/My Drive/Colab Notebooks\n",
        "!ls\n",
        "\n",
        "tweets_biden = pd.read_csv('hashtag_joebiden.csv', lineterminator='\\n', parse_dates = True)\n",
        "tweets_trump = pd.read_csv('hashtag_donaldtrump.csv', lineterminator='\\n', parse_dates = True)"
      ],
      "metadata": {
        "colab": {
          "base_uri": "https://localhost:8080/"
        },
        "id": "PQNufMRljw7a",
        "outputId": "7f92e9dc-402e-47dd-e711-d812df13027f"
      },
      "execution_count": 3,
      "outputs": [
        {
          "output_type": "stream",
          "name": "stdout",
          "text": [
            "Mounted at /content/gdrive\n",
            "/content/gdrive/My Drive/Colab Notebooks\n",
            "'Biden _Trump_Dzianishchyts_Dzwonkowska _Kuczyńska_Hinc .ipynb'\n",
            " hashtag_donaldtrump.csv\n",
            " hashtag_joebiden.csv\n",
            " old-projects\n",
            "'Project_Code (1).ipynb'\n",
            " Project_Code.ipynb\n",
            "'Project-code-leftovers (1).ipynb'\n",
            " Project-code-leftovers.ipynb\n",
            " Project-code-v1.ipynb\n"
          ]
        }
      ]
    },
    {
      "cell_type": "markdown",
      "source": [
        "# EDA - Exploratory Data Analysis"
      ],
      "metadata": {
        "id": "B7NgTF7rm_j_"
      }
    },
    {
      "cell_type": "code",
      "source": [
        "tweets_trump"
      ],
      "metadata": {
        "colab": {
          "base_uri": "https://localhost:8080/",
          "height": 991
        },
        "id": "E1A8hp0k313c",
        "outputId": "0fc0bcab-30bf-4086-e114-74ee45e56132"
      },
      "execution_count": 57,
      "outputs": [
        {
          "output_type": "execute_result",
          "data": {
            "text/html": [
              "\n",
              "  <div id=\"df-36abdbb4-7b9e-40b0-8b6a-229b4a5338ef\">\n",
              "    <div class=\"colab-df-container\">\n",
              "      <div>\n",
              "<style scoped>\n",
              "    .dataframe tbody tr th:only-of-type {\n",
              "        vertical-align: middle;\n",
              "    }\n",
              "\n",
              "    .dataframe tbody tr th {\n",
              "        vertical-align: top;\n",
              "    }\n",
              "\n",
              "    .dataframe thead th {\n",
              "        text-align: right;\n",
              "    }\n",
              "</style>\n",
              "<table border=\"1\" class=\"dataframe\">\n",
              "  <thead>\n",
              "    <tr style=\"text-align: right;\">\n",
              "      <th></th>\n",
              "      <th>created_at</th>\n",
              "      <th>tweet_id</th>\n",
              "      <th>tweet</th>\n",
              "      <th>likes</th>\n",
              "      <th>retweet_count</th>\n",
              "      <th>source</th>\n",
              "      <th>user_id</th>\n",
              "      <th>user_name</th>\n",
              "      <th>user_screen_name</th>\n",
              "      <th>user_description</th>\n",
              "      <th>user_join_date</th>\n",
              "      <th>user_followers_count</th>\n",
              "      <th>user_location</th>\n",
              "      <th>lat</th>\n",
              "      <th>long</th>\n",
              "      <th>city</th>\n",
              "      <th>country</th>\n",
              "      <th>continent</th>\n",
              "      <th>state</th>\n",
              "      <th>state_code</th>\n",
              "      <th>collected_at</th>\n",
              "    </tr>\n",
              "  </thead>\n",
              "  <tbody>\n",
              "    <tr>\n",
              "      <th>0</th>\n",
              "      <td>2020-10-15 00:00:01</td>\n",
              "      <td>1.316529e+18</td>\n",
              "      <td>#Elecciones2020 | En #Florida: #JoeBiden dice ...</td>\n",
              "      <td>0.0</td>\n",
              "      <td>0.0</td>\n",
              "      <td>TweetDeck</td>\n",
              "      <td>3.606665e+08</td>\n",
              "      <td>El Sol Latino News</td>\n",
              "      <td>elsollatinonews</td>\n",
              "      <td>🌐 Noticias de interés para latinos de la costa...</td>\n",
              "      <td>2011-08-23 15:33:45</td>\n",
              "      <td>1860.0</td>\n",
              "      <td>Philadelphia, PA / Miami, FL</td>\n",
              "      <td>25.774270</td>\n",
              "      <td>-80.193660</td>\n",
              "      <td>NaN</td>\n",
              "      <td>United States of America</td>\n",
              "      <td>North America</td>\n",
              "      <td>Florida</td>\n",
              "      <td>FL</td>\n",
              "      <td>2020-10-21 00:00:00</td>\n",
              "    </tr>\n",
              "    <tr>\n",
              "      <th>1</th>\n",
              "      <td>2020-10-15 00:00:01</td>\n",
              "      <td>1.316529e+18</td>\n",
              "      <td>Usa 2020, Trump contro Facebook e Twitter: cop...</td>\n",
              "      <td>26.0</td>\n",
              "      <td>9.0</td>\n",
              "      <td>Social Mediaset</td>\n",
              "      <td>3.316176e+08</td>\n",
              "      <td>Tgcom24</td>\n",
              "      <td>MediasetTgcom24</td>\n",
              "      <td>Profilo ufficiale di Tgcom24: tutte le notizie...</td>\n",
              "      <td>2011-07-08 13:12:20</td>\n",
              "      <td>1067661.0</td>\n",
              "      <td>NaN</td>\n",
              "      <td>NaN</td>\n",
              "      <td>NaN</td>\n",
              "      <td>NaN</td>\n",
              "      <td>NaN</td>\n",
              "      <td>NaN</td>\n",
              "      <td>NaN</td>\n",
              "      <td>NaN</td>\n",
              "      <td>2020-10-21 00:00:00.373216530</td>\n",
              "    </tr>\n",
              "    <tr>\n",
              "      <th>2</th>\n",
              "      <td>2020-10-15 00:00:02</td>\n",
              "      <td>1.316529e+18</td>\n",
              "      <td>#Trump: As a student I used to hear for years,...</td>\n",
              "      <td>2.0</td>\n",
              "      <td>1.0</td>\n",
              "      <td>Twitter Web App</td>\n",
              "      <td>8.436472e+06</td>\n",
              "      <td>snarke</td>\n",
              "      <td>snarke</td>\n",
              "      <td>Will mock for food! Freelance writer, blogger,...</td>\n",
              "      <td>2007-08-26 05:56:11</td>\n",
              "      <td>1185.0</td>\n",
              "      <td>Portland</td>\n",
              "      <td>45.520247</td>\n",
              "      <td>-122.674195</td>\n",
              "      <td>Portland</td>\n",
              "      <td>United States of America</td>\n",
              "      <td>North America</td>\n",
              "      <td>Oregon</td>\n",
              "      <td>OR</td>\n",
              "      <td>2020-10-21 00:00:00.746433060</td>\n",
              "    </tr>\n",
              "    <tr>\n",
              "      <th>3</th>\n",
              "      <td>2020-10-15 00:00:02</td>\n",
              "      <td>1.316529e+18</td>\n",
              "      <td>2 hours since last tweet from #Trump! Maybe he...</td>\n",
              "      <td>0.0</td>\n",
              "      <td>0.0</td>\n",
              "      <td>Trumpytweeter</td>\n",
              "      <td>8.283556e+17</td>\n",
              "      <td>Trumpytweeter</td>\n",
              "      <td>trumpytweeter</td>\n",
              "      <td>If he doesn't tweet for some time, should we b...</td>\n",
              "      <td>2017-02-05 21:32:17</td>\n",
              "      <td>32.0</td>\n",
              "      <td>NaN</td>\n",
              "      <td>NaN</td>\n",
              "      <td>NaN</td>\n",
              "      <td>NaN</td>\n",
              "      <td>NaN</td>\n",
              "      <td>NaN</td>\n",
              "      <td>NaN</td>\n",
              "      <td>NaN</td>\n",
              "      <td>2020-10-21 00:00:01.119649591</td>\n",
              "    </tr>\n",
              "    <tr>\n",
              "      <th>4</th>\n",
              "      <td>2020-10-15 00:00:08</td>\n",
              "      <td>1.316529e+18</td>\n",
              "      <td>You get a tie! And you get a tie! #Trump ‘s ra...</td>\n",
              "      <td>4.0</td>\n",
              "      <td>3.0</td>\n",
              "      <td>Twitter for iPhone</td>\n",
              "      <td>4.741380e+07</td>\n",
              "      <td>Rana Abtar - رنا أبتر</td>\n",
              "      <td>Ranaabtar</td>\n",
              "      <td>Washington Correspondent, Lebanese-American ,c...</td>\n",
              "      <td>2009-06-15 19:05:35</td>\n",
              "      <td>5393.0</td>\n",
              "      <td>Washington DC</td>\n",
              "      <td>38.894992</td>\n",
              "      <td>-77.036558</td>\n",
              "      <td>Washington</td>\n",
              "      <td>United States of America</td>\n",
              "      <td>North America</td>\n",
              "      <td>District of Columbia</td>\n",
              "      <td>DC</td>\n",
              "      <td>2020-10-21 00:00:01.492866121</td>\n",
              "    </tr>\n",
              "    <tr>\n",
              "      <th>...</th>\n",
              "      <td>...</td>\n",
              "      <td>...</td>\n",
              "      <td>...</td>\n",
              "      <td>...</td>\n",
              "      <td>...</td>\n",
              "      <td>...</td>\n",
              "      <td>...</td>\n",
              "      <td>...</td>\n",
              "      <td>...</td>\n",
              "      <td>...</td>\n",
              "      <td>...</td>\n",
              "      <td>...</td>\n",
              "      <td>...</td>\n",
              "      <td>...</td>\n",
              "      <td>...</td>\n",
              "      <td>...</td>\n",
              "      <td>...</td>\n",
              "      <td>...</td>\n",
              "      <td>...</td>\n",
              "      <td>...</td>\n",
              "      <td>...</td>\n",
              "    </tr>\n",
              "    <tr>\n",
              "      <th>970914</th>\n",
              "      <td>2020-11-08 23:59:43</td>\n",
              "      <td>1.325589e+18</td>\n",
              "      <td>@PelleX @Mikerger @spiegelbilderz_ @BertiFranz...</td>\n",
              "      <td>0.0</td>\n",
              "      <td>0.0</td>\n",
              "      <td>Twitter Web App</td>\n",
              "      <td>3.427951e+09</td>\n",
              "      <td>Alexander P. Vogt</td>\n",
              "      <td>APVogt</td>\n",
              "      <td>Wenn das Aussprechen der Wahrheit »den Falsche...</td>\n",
              "      <td>2015-08-17 12:37:12</td>\n",
              "      <td>2106.0</td>\n",
              "      <td>NaN</td>\n",
              "      <td>NaN</td>\n",
              "      <td>NaN</td>\n",
              "      <td>NaN</td>\n",
              "      <td>NaN</td>\n",
              "      <td>NaN</td>\n",
              "      <td>NaN</td>\n",
              "      <td>NaN</td>\n",
              "      <td>2020-11-09 17:47:56.036006</td>\n",
              "    </tr>\n",
              "    <tr>\n",
              "      <th>970915</th>\n",
              "      <td>2020-11-08 23:59:48</td>\n",
              "      <td>1.325589e+18</td>\n",
              "      <td>JOE BIDEN WHY JOE BIDEN DID WINNED ?? TRUMP TR...</td>\n",
              "      <td>4.0</td>\n",
              "      <td>0.0</td>\n",
              "      <td>Twitter Web App</td>\n",
              "      <td>3.245258e+09</td>\n",
              "      <td>ahzy</td>\n",
              "      <td>ahhhzy</td>\n",
              "      <td>NaN</td>\n",
              "      <td>2015-05-10 19:56:37</td>\n",
              "      <td>19.0</td>\n",
              "      <td>NaN</td>\n",
              "      <td>NaN</td>\n",
              "      <td>NaN</td>\n",
              "      <td>NaN</td>\n",
              "      <td>NaN</td>\n",
              "      <td>NaN</td>\n",
              "      <td>NaN</td>\n",
              "      <td>NaN</td>\n",
              "      <td>2020-11-09 17:47:55.715870</td>\n",
              "    </tr>\n",
              "    <tr>\n",
              "      <th>970916</th>\n",
              "      <td>2020-11-08 23:59:53</td>\n",
              "      <td>1.325589e+18</td>\n",
              "      <td>#AfD|ler reagieren panisch bis hysterisch auf ...</td>\n",
              "      <td>25.0</td>\n",
              "      <td>4.0</td>\n",
              "      <td>Twitter Web App</td>\n",
              "      <td>9.866108e+17</td>\n",
              "      <td>watchdog</td>\n",
              "      <td>wilke_tobias</td>\n",
              "      <td>Quis custodiet ipsos custodes?\\n\\nTV Journalis...</td>\n",
              "      <td>2018-04-18 14:21:49</td>\n",
              "      <td>3014.0</td>\n",
              "      <td>Saxony/GER</td>\n",
              "      <td>NaN</td>\n",
              "      <td>NaN</td>\n",
              "      <td>NaN</td>\n",
              "      <td>NaN</td>\n",
              "      <td>NaN</td>\n",
              "      <td>NaN</td>\n",
              "      <td>NaN</td>\n",
              "      <td>2020-11-09 17:47:55.975868</td>\n",
              "    </tr>\n",
              "    <tr>\n",
              "      <th>970917</th>\n",
              "      <td>2020-11-08 23:59:54</td>\n",
              "      <td>1.325589e+18</td>\n",
              "      <td>@sammelbis1998 @iheartmindy @bnorthg First, yo...</td>\n",
              "      <td>0.0</td>\n",
              "      <td>0.0</td>\n",
              "      <td>Twitter for iPad</td>\n",
              "      <td>7.687811e+08</td>\n",
              "      <td>Debra</td>\n",
              "      <td>drdeblk</td>\n",
              "      <td>MD. Autism specialist. Film lover. #DumpTrump2020</td>\n",
              "      <td>2012-08-20 03:53:11</td>\n",
              "      <td>1079.0</td>\n",
              "      <td>NaN</td>\n",
              "      <td>NaN</td>\n",
              "      <td>NaN</td>\n",
              "      <td>NaN</td>\n",
              "      <td>NaN</td>\n",
              "      <td>NaN</td>\n",
              "      <td>NaN</td>\n",
              "      <td>NaN</td>\n",
              "      <td>2020-11-09 17:47:56.012674</td>\n",
              "    </tr>\n",
              "    <tr>\n",
              "      <th>970918</th>\n",
              "      <td>2020-11-08 23:59:55</td>\n",
              "      <td>1.325589e+18</td>\n",
              "      <td>OK just had to do it !\\n#Trump #CatapultTrump ...</td>\n",
              "      <td>105.0</td>\n",
              "      <td>28.0</td>\n",
              "      <td>Twitter Web App</td>\n",
              "      <td>4.519791e+08</td>\n",
              "      <td>Dunken K Bliths</td>\n",
              "      <td>DunkenKBliths</td>\n",
              "      <td>\"Tesla owner's will be followed back\"\\n\\n#Mach...</td>\n",
              "      <td>2012-01-01 08:04:29</td>\n",
              "      <td>12192.0</td>\n",
              "      <td>✔ Official Twitter Account</td>\n",
              "      <td>NaN</td>\n",
              "      <td>NaN</td>\n",
              "      <td>NaN</td>\n",
              "      <td>NaN</td>\n",
              "      <td>NaN</td>\n",
              "      <td>NaN</td>\n",
              "      <td>NaN</td>\n",
              "      <td>2020-11-09 17:47:55.807500</td>\n",
              "    </tr>\n",
              "  </tbody>\n",
              "</table>\n",
              "<p>970919 rows × 21 columns</p>\n",
              "</div>\n",
              "      <button class=\"colab-df-convert\" onclick=\"convertToInteractive('df-36abdbb4-7b9e-40b0-8b6a-229b4a5338ef')\"\n",
              "              title=\"Convert this dataframe to an interactive table.\"\n",
              "              style=\"display:none;\">\n",
              "        \n",
              "  <svg xmlns=\"http://www.w3.org/2000/svg\" height=\"24px\"viewBox=\"0 0 24 24\"\n",
              "       width=\"24px\">\n",
              "    <path d=\"M0 0h24v24H0V0z\" fill=\"none\"/>\n",
              "    <path d=\"M18.56 5.44l.94 2.06.94-2.06 2.06-.94-2.06-.94-.94-2.06-.94 2.06-2.06.94zm-11 1L8.5 8.5l.94-2.06 2.06-.94-2.06-.94L8.5 2.5l-.94 2.06-2.06.94zm10 10l.94 2.06.94-2.06 2.06-.94-2.06-.94-.94-2.06-.94 2.06-2.06.94z\"/><path d=\"M17.41 7.96l-1.37-1.37c-.4-.4-.92-.59-1.43-.59-.52 0-1.04.2-1.43.59L10.3 9.45l-7.72 7.72c-.78.78-.78 2.05 0 2.83L4 21.41c.39.39.9.59 1.41.59.51 0 1.02-.2 1.41-.59l7.78-7.78 2.81-2.81c.8-.78.8-2.07 0-2.86zM5.41 20L4 18.59l7.72-7.72 1.47 1.35L5.41 20z\"/>\n",
              "  </svg>\n",
              "      </button>\n",
              "      \n",
              "  <style>\n",
              "    .colab-df-container {\n",
              "      display:flex;\n",
              "      flex-wrap:wrap;\n",
              "      gap: 12px;\n",
              "    }\n",
              "\n",
              "    .colab-df-convert {\n",
              "      background-color: #E8F0FE;\n",
              "      border: none;\n",
              "      border-radius: 50%;\n",
              "      cursor: pointer;\n",
              "      display: none;\n",
              "      fill: #1967D2;\n",
              "      height: 32px;\n",
              "      padding: 0 0 0 0;\n",
              "      width: 32px;\n",
              "    }\n",
              "\n",
              "    .colab-df-convert:hover {\n",
              "      background-color: #E2EBFA;\n",
              "      box-shadow: 0px 1px 2px rgba(60, 64, 67, 0.3), 0px 1px 3px 1px rgba(60, 64, 67, 0.15);\n",
              "      fill: #174EA6;\n",
              "    }\n",
              "\n",
              "    [theme=dark] .colab-df-convert {\n",
              "      background-color: #3B4455;\n",
              "      fill: #D2E3FC;\n",
              "    }\n",
              "\n",
              "    [theme=dark] .colab-df-convert:hover {\n",
              "      background-color: #434B5C;\n",
              "      box-shadow: 0px 1px 3px 1px rgba(0, 0, 0, 0.15);\n",
              "      filter: drop-shadow(0px 1px 2px rgba(0, 0, 0, 0.3));\n",
              "      fill: #FFFFFF;\n",
              "    }\n",
              "  </style>\n",
              "\n",
              "      <script>\n",
              "        const buttonEl =\n",
              "          document.querySelector('#df-36abdbb4-7b9e-40b0-8b6a-229b4a5338ef button.colab-df-convert');\n",
              "        buttonEl.style.display =\n",
              "          google.colab.kernel.accessAllowed ? 'block' : 'none';\n",
              "\n",
              "        async function convertToInteractive(key) {\n",
              "          const element = document.querySelector('#df-36abdbb4-7b9e-40b0-8b6a-229b4a5338ef');\n",
              "          const dataTable =\n",
              "            await google.colab.kernel.invokeFunction('convertToInteractive',\n",
              "                                                     [key], {});\n",
              "          if (!dataTable) return;\n",
              "\n",
              "          const docLinkHtml = 'Like what you see? Visit the ' +\n",
              "            '<a target=\"_blank\" href=https://colab.research.google.com/notebooks/data_table.ipynb>data table notebook</a>'\n",
              "            + ' to learn more about interactive tables.';\n",
              "          element.innerHTML = '';\n",
              "          dataTable['output_type'] = 'display_data';\n",
              "          await google.colab.output.renderOutput(dataTable, element);\n",
              "          const docLink = document.createElement('div');\n",
              "          docLink.innerHTML = docLinkHtml;\n",
              "          element.appendChild(docLink);\n",
              "        }\n",
              "      </script>\n",
              "    </div>\n",
              "  </div>\n",
              "  "
            ],
            "text/plain": [
              "                 created_at  ...                   collected_at\n",
              "0       2020-10-15 00:00:01  ...            2020-10-21 00:00:00\n",
              "1       2020-10-15 00:00:01  ...  2020-10-21 00:00:00.373216530\n",
              "2       2020-10-15 00:00:02  ...  2020-10-21 00:00:00.746433060\n",
              "3       2020-10-15 00:00:02  ...  2020-10-21 00:00:01.119649591\n",
              "4       2020-10-15 00:00:08  ...  2020-10-21 00:00:01.492866121\n",
              "...                     ...  ...                            ...\n",
              "970914  2020-11-08 23:59:43  ...     2020-11-09 17:47:56.036006\n",
              "970915  2020-11-08 23:59:48  ...     2020-11-09 17:47:55.715870\n",
              "970916  2020-11-08 23:59:53  ...     2020-11-09 17:47:55.975868\n",
              "970917  2020-11-08 23:59:54  ...     2020-11-09 17:47:56.012674\n",
              "970918  2020-11-08 23:59:55  ...     2020-11-09 17:47:55.807500\n",
              "\n",
              "[970919 rows x 21 columns]"
            ]
          },
          "metadata": {},
          "execution_count": 57
        }
      ]
    },
    {
      "cell_type": "markdown",
      "source": [
        "Ktore kolumny sa mi naprawde potrzebne? Ktore maja jakas wartosc dodana? Ktore moge wyrzucic? \n",
        "\n",
        "Napisac cos dlaczego wyrzucam konkretne kolumny, a nie inne."
      ],
      "metadata": {
        "id": "xkhiBsjG39gW"
      }
    },
    {
      "cell_type": "code",
      "source": [
        "print('Total number of records in Trump dataset: ', tweets_trump.shape)\n",
        "print('Total number of records in Biden dataset: ', tweets_biden.shape)\n",
        "\n",
        "trump_initial_count = tweets_trump.shape[0]\n",
        "biden_initial_count = tweets_biden.shape[0]"
      ],
      "metadata": {
        "colab": {
          "base_uri": "https://localhost:8080/"
        },
        "id": "ViLFpQ3bq7Dw",
        "outputId": "14d8769c-7fa5-44be-e83d-b947be3bc07e"
      },
      "execution_count": 6,
      "outputs": [
        {
          "output_type": "stream",
          "name": "stdout",
          "text": [
            "Total number of records in Trump dataset:  (970919, 21)\n",
            "Total number of records in Biden dataset:  (776886, 21)\n"
          ]
        }
      ]
    },
    {
      "cell_type": "markdown",
      "source": [
        "Each dataset has 21 features. \n",
        "The database differs in the number of tweets. There are nearly 200,000 more tweets related to Trump."
      ],
      "metadata": {
        "id": "8gey4uDQruCK"
      }
    },
    {
      "cell_type": "markdown",
      "source": [
        "### Insufficient data"
      ],
      "metadata": {
        "id": "6nrvI88ZtSQ2"
      }
    },
    {
      "cell_type": "code",
      "source": [
        "# library import\n",
        "import matplotlib.pyplot as plt # basic data visualization"
      ],
      "metadata": {
        "id": "D8TT2GJRwUtf"
      },
      "execution_count": 7,
      "outputs": []
    },
    {
      "cell_type": "code",
      "source": [
        "na_biden = pd.DataFrame( {'Null Values': tweets_biden.isna().sum()})\n",
        "na_biden = na_biden.loc[ na_biden ['Null Values'] > 0]\n",
        "\n",
        "na_trump = pd.DataFrame( {'Null Values': tweets_trump.isna().sum()})\n",
        "na_trump = na_trump.loc[ na_trump ['Null Values'] > 0]\n",
        "\n",
        "# bar plot about null values in datasets\n",
        "fig, ax = plt.subplots(2, 1, \n",
        "                       figsize = (8, 8), \n",
        "                       gridspec_kw = {'hspace': 1.2})\n",
        "\n",
        "na_biden.plot.bar(color = barcolors[1], \n",
        "                  **barstyle, \n",
        "                  ax = ax[0])\n",
        "ax[0].set_title('#JoeBiden')\n",
        "ax[0].set_xticklabels(ax[0].get_xticklabels(), \n",
        "                      rotation = 90)\n",
        "ax[0].set_ylabel('Number of null values')\n",
        "ax[0].set_xlabel('Variables')\n",
        "\n",
        "na_trump.plot.bar(color = barcolors[6], \n",
        "                  **barstyle, \n",
        "                  ax = ax[1])\n",
        "ax[1].set_title('#DonaldTrump')\n",
        "ax[1].set_xticklabels(ax[1].get_xticklabels(), \n",
        "                      rotation = 90)\n",
        "ax[1].set_ylabel('Number of null values')\n",
        "ax[1].set_xlabel('Variables')\n",
        "\n",
        "\n",
        "plt.show()"
      ],
      "metadata": {
        "colab": {
          "base_uri": "https://localhost:8080/",
          "height": 585
        },
        "id": "jOFOSwPYtXLV",
        "outputId": "5e2791ef-04be-4c04-e4bd-7a2e6d1bc0bd"
      },
      "execution_count": 55,
      "outputs": [
        {
          "output_type": "display_data",
          "data": {
            "image/png": "[encoded data removed]",
            "text/plain": [
              "<Figure size 576x576 with 2 Axes>"
            ]
          },
          "metadata": {
            "needs_background": "light"
          }
        }
      ]
    },
    {
      "cell_type": "code",
      "source": [
        "# Remove unneeded columns\n",
        "irrelevant_columns = ['source','user_name','user_screen_name','user_description','user_join_date','collected_at']\n",
        "\n",
        "#a more conservative way of considering which columns are not relevant\n",
        "#irrelevant_columns = ['collected_at']\n",
        "trump_df = trump_df.drop(columns=irrelevant_columns)\n",
        "biden_df = biden_df.drop(columns=irrelevant_columns)\n",
        "\n",
        "# drop null rows\n",
        "trump_df = trump_df.dropna()\n",
        "biden_df = biden_df.dropna()"
      ],
      "metadata": {
        "id": "RkbI52pS3Whq"
      },
      "execution_count": null,
      "outputs": []
    },
    {
      "cell_type": "markdown",
      "source": [
        "# Text Pre-processing"
      ],
      "metadata": {
        "id": "mrm1ncxZnFHu"
      }
    },
    {
      "cell_type": "markdown",
      "source": [
        "# Sentiment Analysis"
      ],
      "metadata": {
        "id": "CQ_ZpyQenzbH"
      }
    },
    {
      "cell_type": "markdown",
      "source": [
        "# Insights"
      ],
      "metadata": {
        "id": "MaV86Qs-n1pz"
      }
    },
    {
      "cell_type": "code",
      "source": [
        ""
      ],
      "metadata": {
        "id": "L0M_3qHllOCE"
      },
      "execution_count": null,
      "outputs": []
    }
  ]
}